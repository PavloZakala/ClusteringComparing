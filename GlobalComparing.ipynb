{
  "nbformat": 4,
  "nbformat_minor": 0,
  "metadata": {
    "colab": {
      "name": "GlobalComparing.ipynb",
      "provenance": [],
      "collapsed_sections": [],
      "authorship_tag": "ABX9TyNEO40b+HxHCuPv9/XtmjV8",
      "include_colab_link": true
    },
    "kernelspec": {
      "name": "python3",
      "display_name": "Python 3"
    },
    "language_info": {
      "name": "python"
    }
  },
  "cells": [
    {
      "cell_type": "markdown",
      "metadata": {
        "id": "view-in-github",
        "colab_type": "text"
      },
      "source": [
        "<a href=\"https://colab.research.google.com/github/ZPavlo/ClusteringComparing/blob/main/GlobalComparing.ipynb\" target=\"_parent\"><img src=\"https://colab.research.google.com/assets/colab-badge.svg\" alt=\"Open In Colab\"/></a>"
      ]
    },
    {
      "cell_type": "code",
      "metadata": {
        "id": "hUoVTD3z2tx-"
      },
      "source": [
        "%matplotlib inline\n",
        "import sys\n",
        "import os\n",
        "from google.colab import drive\n",
        "drive.mount('/content/gdrive')\n",
        "ROOT_DATA = '/content/gdrive/MyDrive/datasets/clustering_data'\n",
        "SAVE_FORLDER = \"/content/gdrive/MyDrive/datasets/images\"\n",
        "\n",
        "if not os.path.isdir(SAVE_FORLDER):\n",
        "    os.mkdir(SAVE_FORLDER)"
      ],
      "execution_count": null,
      "outputs": []
    },
    {
      "cell_type": "code",
      "metadata": {
        "id": "690GhyU4ywpa"
      },
      "source": [
        "!git clone https://github.com/ZPavlo/ClusteringComparing.git\n",
        "sys.path.insert(0, \"ClusteringComparing\")"
      ],
      "execution_count": null,
      "outputs": []
    },
    {
      "cell_type": "code",
      "metadata": {
        "id": "MpvwCk0Xy1Js"
      },
      "source": [
        "!cd ClusteringComparing && git pull"
      ],
      "execution_count": null,
      "outputs": []
    },
    {
      "cell_type": "code",
      "metadata": {
        "id": "iOBLtLV4hOEg"
      },
      "source": [
        "!pip install pyclustering\n",
        "!pip install scikit-learn\n",
        "!pip install sklearn_extras\n",
        "!pip install scikit-learn-extra"
      ],
      "execution_count": null,
      "outputs": []
    },
    {
      "cell_type": "code",
      "metadata": {
        "id": "mBU2PoXP2lAx"
      },
      "source": [
        "import numpy as np\n",
        "import pandas as pd\n",
        "import seaborn as sns\n",
        "from matplotlib import pyplot as plt\n",
        "\n",
        "sns.set()"
      ],
      "execution_count": 5,
      "outputs": []
    },
    {
      "cell_type": "code",
      "metadata": {
        "id": "j7VDVK9_XDp0"
      },
      "source": [
        "import os\n",
        "import pickle as pkl\n",
        "import pandas as pd\n",
        "\n",
        "with open(os.path.join(ROOT_DATA, \"images\", \"data_GAUSSIAN_BLOBS.pkl\"), \"rb\") as f:   \n",
        "    data = pkl.load(f)\n",
        "\n",
        "# pd.DataFrame(data = data)\n",
        "data"
      ],
      "execution_count": null,
      "outputs": []
    },
    {
      "cell_type": "code",
      "metadata": {
        "id": "qpQxP6hBXgGo"
      },
      "source": [
        "with open(os.path.join(ROOT_DATA, \"images\", \"data_UNBALANCED_GAUSSIAN_BLOBS.pkl\"), \"rb\") as f:   \n",
        "    data = pkl.load(f)\n",
        "\n",
        "pd.DataFrame(data = data)"
      ],
      "execution_count": null,
      "outputs": []
    },
    {
      "cell_type": "code",
      "metadata": {
        "id": "PQ36xYW2aMGq"
      },
      "source": [
        "with open(os.path.join(ROOT_DATA, \"images\", \"data_CUBES_RECT_PARALLEL.pkl\"), \"rb\") as f:   \n",
        "    data = pkl.load(f)\n",
        "\n",
        "pd.DataFrame(data = data)"
      ],
      "execution_count": null,
      "outputs": []
    },
    {
      "cell_type": "code",
      "metadata": {
        "id": "iFWGZ_-6aMPC"
      },
      "source": [
        "with open(os.path.join(ROOT_DATA, \"images\", \"data_NON_SPHERICAL.pkl\"), \"rb\") as f:   \n",
        "    data = pkl.load(f)\n",
        "\n",
        "pd.DataFrame(data = data)"
      ],
      "execution_count": null,
      "outputs": []
    },
    {
      "cell_type": "code",
      "metadata": {
        "id": "U3JIYQPRaMR-"
      },
      "source": [
        "with open(os.path.join(ROOT_DATA, \"images\", \"data_OTHER_FORMS.pkl\"), \"rb\") as f:   \n",
        "    data = pkl.load(f)\n",
        "\n",
        "pd.DataFrame(data = data)"
      ],
      "execution_count": null,
      "outputs": []
    },
    {
      "cell_type": "code",
      "metadata": {
        "id": "ES1W1gcEaWtn"
      },
      "source": [
        "with open(os.path.join(ROOT_DATA, \"images\", \"data_REAL_DATA.pkl\"), \"rb\") as f:   \n",
        "    data = pkl.load(f)\n",
        "\n",
        "pd.DataFrame(data = data)"
      ],
      "execution_count": null,
      "outputs": []
    },
    {
      "cell_type": "code",
      "metadata": {
        "id": "NL8gUxsxaWxY"
      },
      "source": [
        "with open(os.path.join(ROOT_DATA, \"images\", \"init_dependency.pkl\"), \"rb\") as f:   \n",
        "    data = pkl.load(f)\n",
        "\n",
        "pd.DataFrame(data = data)"
      ],
      "execution_count": null,
      "outputs": []
    },
    {
      "cell_type": "code",
      "metadata": {
        "id": "UJqzDOoZauE6"
      },
      "source": [
        "with open(os.path.join(ROOT_DATA, \"images\", \"stability.pkl\"), \"rb\") as f:   \n",
        "    data = pkl.load(f)\n",
        "\n",
        "pd.DataFrame(data = data)"
      ],
      "execution_count": null,
      "outputs": []
    }
  ]
}